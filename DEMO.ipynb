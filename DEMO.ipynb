{
 "cells": [
  {
   "cell_type": "markdown",
   "metadata": {},
   "source": [
    "# 1) Classification algorithms demo."
   ]
  },
  {
   "cell_type": "markdown",
   "metadata": {},
   "source": [
    "## a) Random Forest Classifier demo."
   ]
  },
  {
   "cell_type": "code",
   "execution_count": 1,
   "metadata": {},
   "outputs": [
    {
     "name": "stdout",
     "output_type": "stream",
     "text": [
      "Accuracy score: 0.9370629370629371\n"
     ]
    }
   ],
   "source": [
    "# Import libraries\n",
    "from sklearn.datasets import load_breast_cancer\n",
    "from sklearn.model_selection import train_test_split\n",
    "from sklearn.metrics import accuracy_score\n",
    "import pandas as pd\n",
    "\n",
    "# Import RandomForestClassifier from bdrgnlearn\n",
    "from bdrgnlearn.ensemble import RandomForestClassifier\n",
    "\n",
    "# Load sample data from sklearn\n",
    "data = load_breast_cancer()\n",
    "X, y = data['data'], data['target']\n",
    "\n",
    "# Split to train and test\n",
    "X_train, X_test, y_train, y_test = train_test_split(X, y, random_state=42)\n",
    "\n",
    "# Create a model instance\n",
    "clf = RandomForestClassifier()\n",
    "\n",
    "# Fit the model\n",
    "clf.fit(X_train, y_train)\n",
    "\n",
    "# Make predictions \n",
    "y_pred = clf.predict(X_test)\n",
    "\n",
    "# Measure accuracy\n",
    "accuracy = accuracy_score(y_test, y_pred)\n",
    "\n",
    "# Print the accuracy score\n",
    "print(f'Accuracy score: {accuracy}')"
   ]
  },
  {
   "cell_type": "markdown",
   "metadata": {},
   "source": [
    "## b) Logistic Regression demo."
   ]
  },
  {
   "cell_type": "code",
   "execution_count": 2,
   "metadata": {},
   "outputs": [
    {
     "name": "stdout",
     "output_type": "stream",
     "text": [
      "Accuracy score: 0.9440559440559441\n"
     ]
    }
   ],
   "source": [
    "# Import libraries\n",
    "from sklearn.datasets import load_breast_cancer\n",
    "from sklearn.model_selection import train_test_split\n",
    "from sklearn.metrics import accuracy_score\n",
    "import pandas as pd\n",
    "\n",
    "# Import LogisticRegression from bdrgnlearn\n",
    "from bdrgnlearn.linear_model import LogisticRegression\n",
    "\n",
    "# Load sample data from sklearn\n",
    "data = load_breast_cancer()\n",
    "X, y = data['data'], data['target']\n",
    "\n",
    "# Split to train and test\n",
    "X_train, X_test, y_train, y_test = train_test_split(X, y, random_state=42)\n",
    "\n",
    "# Create a model instance\n",
    "clf = LogisticRegression()\n",
    "\n",
    "# Fit the model\n",
    "clf.fit(X_train, y_train)\n",
    "\n",
    "# Make predictions \n",
    "y_pred = clf.predict(X_test)\n",
    "\n",
    "# Measure accuracy\n",
    "accuracy = accuracy_score(y_test, y_pred)\n",
    "\n",
    "# Print the accuracy score\n",
    "print(f'Accuracy score: {accuracy}')"
   ]
  },
  {
   "cell_type": "markdown",
   "metadata": {},
   "source": [
    "## c) KNeighborsClassifier demo."
   ]
  },
  {
   "cell_type": "code",
   "execution_count": 3,
   "metadata": {},
   "outputs": [
    {
     "name": "stdout",
     "output_type": "stream",
     "text": [
      "Accuracy score: 0.8531468531468531\n"
     ]
    }
   ],
   "source": [
    "# Import libraries\n",
    "from sklearn.datasets import load_breast_cancer\n",
    "from sklearn.model_selection import train_test_split\n",
    "from sklearn.metrics import accuracy_score\n",
    "import pandas as pd\n",
    "\n",
    "# Import KNeighborsClassifier from bdrgnlearn\n",
    "from bdrgnlearn.neighbors import KNeighborsClassifier\n",
    "\n",
    "# Load sample data from sklearn\n",
    "data = load_breast_cancer()\n",
    "X, y = data['data'], data['target']\n",
    "\n",
    "# Split to train and test\n",
    "X_train, X_test, y_train, y_test = train_test_split(X, y, random_state=42)\n",
    "\n",
    "# Create a model instance\n",
    "clf = KNeighborsClassifier()\n",
    "\n",
    "# Fit the model\n",
    "clf.fit(X_train, y_train)\n",
    "\n",
    "# Make predictions \n",
    "y_pred = clf.predict(X_test)\n",
    "\n",
    "# Measure accuracy\n",
    "accuracy = accuracy_score(y_test, y_pred)\n",
    "\n",
    "# Print the accuracy score\n",
    "print(f'Accuracy score: {accuracy}')"
   ]
  },
  {
   "cell_type": "markdown",
   "metadata": {},
   "source": [
    "## d) Gradient Boosting Classifier demo."
   ]
  },
  {
   "cell_type": "code",
   "execution_count": 4,
   "metadata": {},
   "outputs": [
    {
     "name": "stdout",
     "output_type": "stream",
     "text": [
      "Accuracy Score: 0.951048951048951\n"
     ]
    }
   ],
   "source": [
    "# Import libraries\n",
    "from sklearn.datasets import load_breast_cancer\n",
    "from sklearn.model_selection import train_test_split\n",
    "from sklearn.metrics import accuracy_score\n",
    "import pandas as pd\n",
    "\n",
    "# Import GradientBoostingClassifier from bdrgnlearn\n",
    "from bdrgnlearn.ensemble import GradientBoostingClassifier\n",
    "\n",
    "# Load sample data from sklearn\n",
    "data = load_breast_cancer()\n",
    "X, y = data['data'], data['target']\n",
    "\n",
    "# Split to train and test\n",
    "X_train, X_test, y_train, y_test = train_test_split(X, y, random_state=42)\n",
    "\n",
    "# Create a model instance\n",
    "clf = GradientBoostingClassifier(n_trees=10)\n",
    "\n",
    "# Fit the model\n",
    "clf.fit(X_train, y_train)\n",
    "\n",
    "# Make predictions \n",
    "y_pred = clf.trees[2].predict(X_test) \n",
    "\n",
    "# Measure accuracy\n",
    "accuracy = accuracy_score(y_test, y_pred)\n",
    "\n",
    "# Print the accuracy score\n",
    "print(f'Accuracy Score: {accuracy}')"
   ]
  },
  {
   "cell_type": "markdown",
   "metadata": {},
   "source": [
    "# 2) Regression algorithms demo."
   ]
  },
  {
   "cell_type": "markdown",
   "metadata": {},
   "source": [
    "## a) Linear Regression demo."
   ]
  },
  {
   "cell_type": "code",
   "execution_count": 5,
   "metadata": {},
   "outputs": [
    {
     "name": "stdout",
     "output_type": "stream",
     "text": [
      "R2 Score: 0.6642753502940251\n"
     ]
    }
   ],
   "source": [
    "# Import libraries\n",
    "from sklearn.datasets import load_boston\n",
    "from sklearn.model_selection import train_test_split\n",
    "from sklearn.metrics import r2_score\n",
    "import pandas as pd\n",
    "\n",
    "# Import LinearRegression from bdrgnlearn\n",
    "from bdrgnlearn.linear_model import LinearRegression\n",
    "\n",
    "# Load sample data from sklearn\n",
    "data = load_boston()\n",
    "X, y = data['data'], data['target']\n",
    "\n",
    "# Split to train and test\n",
    "X_train, X_test, y_train, y_test = train_test_split(X, y, random_state=42)\n",
    "\n",
    "# Create a model instance\n",
    "clf = LinearRegression()\n",
    "\n",
    "# Fit the model\n",
    "clf.fit(X_train, y_train)\n",
    "\n",
    "# Make predictions \n",
    "y_pred = clf.predict(X_test)\n",
    "\n",
    "# Measure R2\n",
    "r2 = r2_score(y_test, y_pred)\n",
    "\n",
    "# Print the R2 score\n",
    "print(f'R2 Score: {r2}')"
   ]
  },
  {
   "cell_type": "markdown",
   "metadata": {},
   "source": [
    "## b) Random Forest Regressor demo."
   ]
  },
  {
   "cell_type": "code",
   "execution_count": 6,
   "metadata": {
    "scrolled": true
   },
   "outputs": [
    {
     "name": "stdout",
     "output_type": "stream",
     "text": [
      "R2 Score: 0.6902679664705801\n"
     ]
    }
   ],
   "source": [
    "# Import libraries\n",
    "from sklearn.datasets import load_boston\n",
    "from sklearn.model_selection import train_test_split\n",
    "from sklearn.metrics import r2_score\n",
    "import pandas as pd\n",
    "\n",
    "# Import RandomForestRegressor from bdrgnlearn\n",
    "from bdrgnlearn.ensemble import RandomForestRegressor\n",
    "\n",
    "# Load sample data from sklearn\n",
    "data = load_boston()\n",
    "X, y = data['data'], data['target']\n",
    "\n",
    "# Split to train and test\n",
    "X_train, X_test, y_train, y_test = train_test_split(X, y, random_state=42)\n",
    "\n",
    "# Create a model instance\n",
    "clf = RandomForestRegressor()\n",
    "\n",
    "# Fit the model\n",
    "clf.fit(X_train, y_train)\n",
    "\n",
    "# Make predictions \n",
    "y_pred = clf.predict(X_test) \n",
    "\n",
    "# Measure R2\n",
    "r2 = r2_score(y_test, y_pred)\n",
    "\n",
    "# Print the R2 score\n",
    "print(f'R2 Score: {r2}')"
   ]
  },
  {
   "cell_type": "markdown",
   "metadata": {},
   "source": [
    "## c) Gradient Boosting Regressor demo."
   ]
  },
  {
   "cell_type": "code",
   "execution_count": 7,
   "metadata": {
    "scrolled": true
   },
   "outputs": [
    {
     "name": "stdout",
     "output_type": "stream",
     "text": [
      "R2 Score: 0.8234059929394895\n"
     ]
    }
   ],
   "source": [
    "# Import libraries\n",
    "from sklearn.datasets import load_boston\n",
    "from sklearn.model_selection import train_test_split\n",
    "from sklearn.metrics import r2_score\n",
    "import pandas as pd\n",
    "\n",
    "# Import GradientBoostingRegressor from bdrgnlearn\n",
    "from bdrgnlearn.ensemble import GradientBoostingRegressor\n",
    "\n",
    "# Load sample data from sklearn\n",
    "data = load_boston()\n",
    "X, y = data['data'], data['target']\n",
    "\n",
    "# Split to train and test\n",
    "X_train, X_test, y_train, y_test = train_test_split(X, y, random_state=42)\n",
    "\n",
    "# Create a model instance\n",
    "clf = GradientBoostingRegressor(n_trees=10)\n",
    "\n",
    "# Fit the model\n",
    "clf.fit(X_train, y_train)\n",
    "\n",
    "# Make predictions \n",
    "y_pred = clf.trees[2].predict(X_test) \n",
    "\n",
    "# Measure R2\n",
    "r2 = r2_score(y_test, y_pred)\n",
    "\n",
    "# Print the R2 score\n",
    "print(f'R2 Score: {r2}')"
   ]
  },
  {
   "cell_type": "markdown",
   "metadata": {},
   "source": [
    "## d) KNeighborsRegressor demo."
   ]
  },
  {
   "cell_type": "code",
   "execution_count": 8,
   "metadata": {},
   "outputs": [
    {
     "name": "stdout",
     "output_type": "stream",
     "text": [
      "R2 score: 0.639665439953224\n"
     ]
    }
   ],
   "source": [
    "# Import libraries\n",
    "from sklearn.datasets import load_boston\n",
    "from sklearn.model_selection import train_test_split\n",
    "from sklearn.metrics import r2_score\n",
    "import pandas as pd\n",
    "\n",
    "# Import KNeighborsClassifier from bdrgnlearn\n",
    "from bdrgnlearn.neighbors import KNeighborsRegressor\n",
    "\n",
    "# Load sample data from sklearn\n",
    "data = load_boston()\n",
    "X, y = data['data'], data['target']\n",
    "\n",
    "# Split to train and test\n",
    "X_train, X_test, y_train, y_test = train_test_split(X, y, random_state=42)\n",
    "\n",
    "# Create a model instance\n",
    "clf = KNeighborsRegressor()\n",
    "\n",
    "# Fit the model\n",
    "clf.fit(X_train, y_train)\n",
    "\n",
    "# Make predictions \n",
    "y_pred = clf.predict(X_test)\n",
    "\n",
    "# Measure R2\n",
    "r2 = r2_score(y_test, y_pred)\n",
    "\n",
    "# Print the R2 score\n",
    "print(f'R2 score: {r2}')"
   ]
  },
  {
   "cell_type": "markdown",
   "metadata": {},
   "source": [
    "# e) Neural Networks demo."
   ]
  },
  {
   "cell_type": "code",
   "execution_count": 7,
   "metadata": {},
   "outputs": [
    {
     "name": "stdout",
     "output_type": "stream",
     "text": [
      "Epoch 0. Validation loss: 86493955.\n",
      "Epoch 1. Validation loss: 45072621.\n",
      "Epoch 2. Validation loss: 20206450.\n",
      "Epoch 3. Validation loss: 9857863.\n",
      "Epoch 4. Validation loss: 4693866.\n",
      "Epoch 5. Validation loss: 1839095.\n",
      "Epoch 6. Validation loss: 711986.\n",
      "Epoch 7. Validation loss: 215415.\n",
      "Epoch 8. Validation loss: 44960.\n",
      "Epoch 9. Validation loss: 10047.\n",
      "Epoch 10. Validation loss: 1808.\n"
     ]
    },
    {
     "data": {
      "image/png": "[encoded data removed]",
      "text/plain": [
       "<Figure size 1440x720 with 1 Axes>"
      ]
     },
     "metadata": {
      "needs_background": "light"
     },
     "output_type": "display_data"
    }
   ],
   "source": [
    "# Import libraries\n",
    "from bdrgnlearn.neural import Sequential\n",
    "from sklearn.datasets import load_boston\n",
    "import matplotlib.pyplot as plt\n",
    "import numpy as np\n",
    "\n",
    "# Load the data on which to measure algorithm performance\n",
    "data = load_boston()\n",
    "X, y = data['data'], data['target']\n",
    "\n",
    "# Split the data into train and test\n",
    "X_train, X_test, y_train, y_test = X[:400], X[400:], y[:400], y[400:]\n",
    "\n",
    "# Fix the random seed\n",
    "np.random.seed(42)\n",
    "\n",
    "# Initialize a model\n",
    "model = Sequential(input_size=13, validation_X=X_test, validation_y=y_test, epochs=10)\n",
    "model.add_layer(64)\n",
    "model.add_layer(1)\n",
    "\n",
    "# Fit the model to training data\n",
    "model.fit(X_train, y_train)\n",
    "\n",
    "# Make predictions on test data\n",
    "y_pred = model.predict(X_test)\n",
    "\n",
    "# Plot the losses\n",
    "plt.figure(figsize=(20, 10))\n",
    "plt.plot(model.losses_)\n",
    "plt.show()"
   ]
  },
  {
   "cell_type": "code",
   "execution_count": null,
   "metadata": {
    "collapsed": true
   },
   "outputs": [],
   "source": []
  }
 ],
 "metadata": {
  "kernelspec": {
   "display_name": "Python 3",
   "language": "python",
   "name": "python3"
  },
  "language_info": {
   "codemirror_mode": {
    "name": "ipython",
    "version": 3
   },
   "file_extension": ".py",
   "mimetype": "text/x-python",
   "name": "python",
   "nbconvert_exporter": "python",
   "pygments_lexer": "ipython3",
   "version": "3.6.8"
  }
 },
 "nbformat": 4,
 "nbformat_minor": 2
}
